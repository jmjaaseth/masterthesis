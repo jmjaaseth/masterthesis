{
 "cells": [
  {
   "cell_type": "markdown",
   "metadata": {},
   "source": [
    "# Process results\n",
    "\n",
    "This notebook combines the various collected results into a single CSV that can be easily read using Pandas.\n",
    "\n",
    "### Imports"
   ]
  },
  {
   "cell_type": "code",
   "execution_count": 2,
   "metadata": {},
   "outputs": [],
   "source": [
    "#Thesis libs\n",
    "from JQCLib.Preprocessing.Utils import readWebCircuits, saveMetrics, loadMetrics, loadMoreMetrics\n",
    "from JQCLib.Metrics.MetricsWrapperClass import MetricWrapper\n",
    "from JQCLib.Preprocessing.Utils import ToQiskit\n",
    "from JQCLib.Metrics.DKLFPMetrics import DKLFP\n",
    "\n",
    "#Other libs\n",
    "from progressbar import ProgressBar, Bar, Percentage\n",
    "import numpy as np\n",
    "import pandas as pd\n",
    "from qiskit.circuit.library import RealAmplitudes\n",
    "from scipy import stats"
   ]
  },
  {
   "cell_type": "markdown",
   "metadata": {},
   "source": [
    "### Files & folders"
   ]
  },
  {
   "cell_type": "code",
   "execution_count": 4,
   "metadata": {},
   "outputs": [
    {
     "name": "stdout",
     "output_type": "stream",
     "text": [
      "Found 10000 results\n"
     ]
    }
   ],
   "source": [
    "#Files in thesis\n",
    "circuitFile =   'JQCLib\\\\Results\\\\trainingresults.txt'\n",
    "metricsFile =   'JQCLib\\\\Results\\\\metrics.pkl'\n",
    "fidelities =    'JQCLib\\\\Results\\\\Fidelities'\n",
    "DATAFILE =      'JQCLib\\\\Results\\\\PQC_Dataset.csv'\n",
    "\n",
    "#Load files\n",
    "models = readWebCircuits(circuitFile)\n",
    "metricDict = loadMetrics(metricsFile)\n",
    "fidelities = loadMoreMetrics(fidelities)\n",
    "\n",
    "fidelities = dict(sorted(fidelities.items()))\n",
    "print(\"Found\",len(fidelities),\"results\")"
   ]
  },
  {
   "cell_type": "markdown",
   "metadata": {},
   "source": [
    "### Calculate metrics"
   ]
  },
  {
   "cell_type": "code",
   "execution_count": 5,
   "metadata": {},
   "outputs": [
    {
     "name": "stderr",
     "output_type": "stream",
     "text": [
      "100%|#########################################################################|\n"
     ]
    },
    {
     "name": "stdout",
     "output_type": "stream",
     "text": [
      "Saving file.\n"
     ]
    }
   ],
   "source": [
    "#Main loop\n",
    "\n",
    "pbar = ProgressBar(widgets=[Percentage(), Bar()], maxval=len(models)).start()\n",
    "i = 0\n",
    "for Id, TrainResult in models.items(): \n",
    "    \n",
    "    #Check if metrics for the given circuit is missing\n",
    "    if not Id in metricDict:\n",
    "\n",
    "        #Create new entry           \n",
    "        metricDict[Id] = MetricWrapper({})\n",
    "    \n",
    "    #Entry is now present. Either from file or newly inserted\n",
    "    #Check if the entry is complete according to MetricWrapper rules    \n",
    "    metricDict[Id].Validate(TrainResult)\n",
    "    \n",
    "    i+=1\n",
    "    if(i%1000 == 0):\n",
    "        saveMetrics(metricsFile,metricDict)    \n",
    "    pbar.update(i)\n",
    "\n",
    "pbar.finish()\n",
    "\n",
    "print(\"Saving file.\")\n",
    "saveMetrics(metricsFile,metricDict)"
   ]
  },
  {
   "cell_type": "markdown",
   "metadata": {},
   "source": [
    "### Compute Frame Potentials & Divergence"
   ]
  },
  {
   "cell_type": "code",
   "execution_count": 10,
   "metadata": {},
   "outputs": [
    {
     "name": "stdout",
     "output_type": "stream",
     "text": [
      "Computed DKLFP for 10000 circuits\n"
     ]
    }
   ],
   "source": [
    "circCount = 0\n",
    "BINS = 1000\n",
    "moreMetrics = {}\n",
    "\n",
    "for Id, TrainResult in models.items():    \n",
    "    \n",
    "    #Check if 'moreMetrics' for the given circuit is missing\n",
    "    if not Id in moreMetrics:\n",
    "\n",
    "        #Create new entry           \n",
    "        moreMetrics[Id] = DKLFP(fidelities[Id],BINS,4)\n",
    "        circCount +=1 \n",
    "\n",
    "print(\"Computed DKLFP for\",circCount,\"circuits\")"
   ]
  },
  {
   "cell_type": "markdown",
   "metadata": {},
   "source": [
    "### Combine into CSV file"
   ]
  },
  {
   "cell_type": "code",
   "execution_count": 11,
   "metadata": {},
   "outputs": [],
   "source": [
    "moreMetricLabels = [\"FP1\",\"FP2\",\"DKL\"]\n",
    "\n",
    "#Metrics\n",
    "data = np.array([list(wrapper.Metrics.values()) for wrapper in metricDict.values()])\n",
    "\n",
    "#MoreMetrics\n",
    "data = np.append(data,np.array(list(moreMetrics.values())),axis=1)\n",
    "\n",
    "#Id\n",
    "data = np.insert(data, 0, np.array(list(metricDict.keys())), axis=1)\n",
    "\n",
    "#Metric labels\n",
    "labels = [\"Id\"] + list(MetricWrapper.MustContain.keys()) + moreMetricLabels\n",
    "\n",
    "#Create dataframe\n",
    "df = pd.DataFrame(data, columns=labels)\n",
    "\n",
    "#Cast applicable columns to INT and set Index as the MySql index\n",
    "df = df.astype({labels[0]: int, labels[1]: int, labels[2]: int, labels[3]: int, labels[5]: int})    \n",
    "df = df.set_index('Id')\n",
    "\n",
    "#Save file\n",
    "df.to_csv(DATAFILE)"
   ]
  }
 ],
 "metadata": {
  "kernelspec": {
   "display_name": "qiskitml",
   "language": "python",
   "name": "python3"
  },
  "language_info": {
   "codemirror_mode": {
    "name": "ipython",
    "version": 3
   },
   "file_extension": ".py",
   "mimetype": "text/x-python",
   "name": "python",
   "nbconvert_exporter": "python",
   "pygments_lexer": "ipython3",
   "version": "3.10.6"
  }
 },
 "nbformat": 4,
 "nbformat_minor": 2
}
