{
 "cells": [
  {
   "cell_type": "markdown",
   "metadata": {},
   "source": [
    "# Statevectors\n",
    "\n",
    "This notebook compares statevectors of random circuits using JMStateVectorSim and Qiskit."
   ]
  },
  {
   "cell_type": "code",
   "execution_count": 1,
   "metadata": {},
   "outputs": [],
   "source": [
    "import numpy as np\n",
    "\n",
    "from JQCLib.Utils.Utilities import fromRaw\n",
    "from JQCLib.Classes.JMStateVectorSimClass import JMStateVectorSim, FeatureEncode\n",
    "from JQCLib.Classes.QCSamplerClass import QCSampler\n",
    "\n",
    "#Qiskit stuff. Only needed for comparison\n",
    "from qiskit import QuantumCircuit\n",
    "from qiskit import execute\n",
    "from qiskit.circuit import ParameterVector\n",
    "from qiskit.providers.aer import QasmSimulator"
   ]
  },
  {
   "cell_type": "markdown",
   "metadata": {},
   "source": [
    "### Test configuration"
   ]
  },
  {
   "cell_type": "code",
   "execution_count": 2,
   "metadata": {},
   "outputs": [],
   "source": [
    "#Possible gates\n",
    "NUMGATES = 5    #Identity, Hadamard, Rx, Ry, Rz\n",
    "\n",
    "#Circuit size\n",
    "QUBITS = 4\n",
    "LAYERS = 12"
   ]
  },
  {
   "cell_type": "markdown",
   "metadata": {},
   "source": [
    "### Feature map for Qiskit. Must match FeatureEncode(...) in JMStateVectorSimClass"
   ]
  },
  {
   "cell_type": "code",
   "execution_count": 3,
   "metadata": {},
   "outputs": [],
   "source": [
    "def QiskitFeaturemap(no_qubits):\n",
    "\n",
    "    feature_map = QuantumCircuit(no_qubits)\n",
    "\n",
    "    #Vector for encoding the features\n",
    "    ip = ParameterVector('Features',no_qubits) \n",
    "\n",
    "    for i in range(no_qubits):\n",
    "        feature_map.h(i)\n",
    "        feature_map.rz(ip[i], i)\n",
    "\n",
    "    return feature_map"
   ]
  },
  {
   "cell_type": "markdown",
   "metadata": {},
   "source": [
    "### Sample circuits and parameters"
   ]
  },
  {
   "cell_type": "code",
   "execution_count": 4,
   "metadata": {},
   "outputs": [],
   "source": [
    "def randomcircuit(Qubits, Layers):\n",
    "\n",
    "    #Largest possible gate in config\n",
    "    MAXGATES = NUMGATES + Qubits - 1\n",
    "\n",
    "    #Generate random circuit & wash\n",
    "    circuit = fromRaw(np.random.randint(0, MAXGATES, (Qubits,Layers)))\n",
    "\n",
    "    #Count trainable parameters in circuit    \n",
    "    pcount = np.count_nonzero(np.logical_and(circuit>1, circuit<NUMGATES))\n",
    "\n",
    "    #Sample inputs uniformly\n",
    "    inputs = np.random.uniform(-np.pi,np.pi,Qubits).tolist()   \n",
    "\n",
    "    #Sample weights uniformly\n",
    "    weights = np.random.uniform(-np.pi,np.pi,pcount).tolist()\n",
    "\n",
    "    #Return tuple of circuit data and sample weights\n",
    "    return circuit, inputs, weights"
   ]
  },
  {
   "cell_type": "markdown",
   "metadata": {},
   "source": [
    "### Wrapper around JMStateVectorSim to get statevector"
   ]
  },
  {
   "cell_type": "code",
   "execution_count": 5,
   "metadata": {},
   "outputs": [],
   "source": [
    "def CustomStatevector(circuit, input,  weights):    \n",
    "    return JMStateVectorSim(circuit,True).Statevector(weights, FeatureEncode(input))                                      "
   ]
  },
  {
   "cell_type": "markdown",
   "metadata": {},
   "source": [
    "### Wrapper around Qiskit code to get statevector"
   ]
  },
  {
   "cell_type": "code",
   "execution_count": 6,
   "metadata": {},
   "outputs": [],
   "source": [
    "def CTQiskit(circuit, input, weights, verbose = False):\n",
    "\n",
    "    #Create QSampler from test data\n",
    "    QS = QCSampler(circuit)            #<- Let's use the QCSampler to handle circuit creation with Qiskit\n",
    "\n",
    "    #The circuit\n",
    "    qc = QuantumCircuit(QUBITS)\n",
    "\n",
    "    qc.compose(qiskitff.bind_parameters(input), range(QUBITS), inplace=True)\n",
    "    qc.compose(QS.Parameterize(weights), range(QUBITS), inplace=True)    \n",
    "\n",
    "    #Output circuit on screen\n",
    "    if(verbose):\n",
    "        #display(qc.draw('mpl',reverse_bits=True))\n",
    "        display(qc.draw('mpl'))\n",
    "\n",
    "    #Save the state vector\n",
    "    qc.save_statevector()\n",
    "\n",
    "    #Execute & get result    \n",
    "    job = execute(qc, backend)\n",
    "    job_result = job.result()\n",
    "\n",
    "    #Return state vector\n",
    "    return np.array(job_result.get_statevector(qc)).reshape(-1,1)"
   ]
  },
  {
   "cell_type": "markdown",
   "metadata": {},
   "source": [
    "### Compare statevectors from Qiskit & JMStateVectorSim"
   ]
  },
  {
   "cell_type": "code",
   "execution_count": 7,
   "metadata": {},
   "outputs": [
    {
     "name": "stdout",
     "output_type": "stream",
     "text": [
      "Statevectors matched: True\n",
      "Statevectors matched: True\n",
      "Statevectors matched: True\n",
      "Statevectors matched: True\n",
      "Statevectors matched: True\n",
      "Statevectors matched: True\n",
      "Statevectors matched: True\n",
      "Statevectors matched: True\n",
      "Statevectors matched: True\n",
      "Statevectors matched: True\n"
     ]
    }
   ],
   "source": [
    "#Qiskit config\n",
    "backend = QasmSimulator()\n",
    "qiskitff = QiskitFeaturemap(QUBITS)\n",
    "\n",
    "#Num tests\n",
    "TESTS = 10\n",
    "\n",
    "#Run\n",
    "for circuit, input, weights in [randomcircuit(QUBITS,LAYERS) for _ in range(TESTS)]:\n",
    "    qr = CTQiskit(circuit, input, weights)      \n",
    "    jr = CustomStatevector(circuit, input, weights)\n",
    "    print(\"Statevectors matched:\",np.all(np.isclose(qr,jr)))    "
   ]
  }
 ],
 "metadata": {
  "kernelspec": {
   "display_name": "qiskitml",
   "language": "python",
   "name": "python3"
  },
  "language_info": {
   "codemirror_mode": {
    "name": "ipython",
    "version": 3
   },
   "file_extension": ".py",
   "mimetype": "text/x-python",
   "name": "python",
   "nbconvert_exporter": "python",
   "pygments_lexer": "ipython3",
   "version": "3.10.6"
  }
 },
 "nbformat": 4,
 "nbformat_minor": 2
}
